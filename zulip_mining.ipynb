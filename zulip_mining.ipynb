{
 "cells": [
  {
   "cell_type": "code",
   "execution_count": 29,
   "source": [
    "import json"
   ],
   "outputs": [],
   "metadata": {}
  },
  {
   "cell_type": "code",
   "execution_count": 30,
   "source": [
    "x = []\n",
    "rMean = 0\n",
    "rSum = 0\n",
    "notExists = False  "
   ],
   "outputs": [],
   "metadata": {}
  },
  {
   "cell_type": "code",
   "execution_count": 31,
   "source": [
    "with open('sortedByUsers.json') as json_file:\n",
    "    y = json.load(json_file)\n",
    "    x.append({ \"USER\":y['1'][\"USER\"], \"PULLREQUESTS\": [], \"TITULO\": [], \"BODY\": [], \"ROLES\": [\"\", \"\"] })\n",
    "    \n",
    "    for j in range(1,len(y)+1):\n",
    "        for i in range (len(x)):\n",
    "            if(x[i][\"USER\"] != y[str(j)][\"USER\"]):\n",
    "                notExists = True\n",
    "            else:\n",
    "                notExists = False\n",
    "        if notExists == True:\n",
    "            x.append({\"USER\":y[str(j)][\"USER\"], \"PULLREQUESTS\": [], \"TITULO\": [], \"BODY\": [], \"ROLES\": [\"\", \"\"] })\n",
    "    \n",
    "    for j in range(1,len(y)+1):\n",
    "        for i in range (len(x)):\n",
    "            if(x[i][\"USER\"] == y[str(j)][\"USER\"]):\n",
    "                if y[str(j)][\"PULLNUMBER\"] not in x[i][\"PULLREQUESTS\"]:\n",
    "                    x[i][\"PULLREQUESTS\"].append(y[str(j)][\"PULLNUMBER\"])\n",
    "                    x[i][\"TITULO\"].append(y[str(j)][\"TITULO\"])\n",
    "                    x[i][\"BODY\"].append(y[str(j)][\"BODY\"]) "
   ],
   "outputs": [],
   "metadata": {}
  },
  {
   "cell_type": "code",
   "execution_count": 32,
   "source": [
    "qtdPullRequests= len(y)\n",
    "qtdUsers = len(x)\n",
    "rMean = qtdPullRequests/qtdUsers\n",
    "indToRemove = []   "
   ],
   "outputs": [],
   "metadata": {}
  },
  {
   "cell_type": "code",
   "execution_count": 33,
   "source": [
    "#Calcula os elementos a serem removidos\n",
    "for i in range (len(x)):\n",
    "        if  len(x[i][\"PULLREQUESTS\"]) < rMean:\n",
    "            indToRemove.append(i) \n",
    "\n",
    "#Remove os elementos\n",
    "for i in indToRemove[::-1]:\n",
    "        x.pop(i)"
   ],
   "outputs": [],
   "metadata": {}
  },
  {
   "cell_type": "code",
   "execution_count": 34,
   "source": [
    "with open(\"finalResults.json\", 'w+', encoding='utf-8') as f:\n",
    "    json.dump(x, f, ensure_ascii=False, indent=4)"
   ],
   "outputs": [],
   "metadata": {}
  }
 ],
 "metadata": {
  "orig_nbformat": 4,
  "language_info": {
   "name": "python",
   "version": "3.8.10",
   "mimetype": "text/x-python",
   "codemirror_mode": {
    "name": "ipython",
    "version": 3
   },
   "pygments_lexer": "ipython3",
   "nbconvert_exporter": "python",
   "file_extension": ".py"
  },
  "kernelspec": {
   "name": "python3",
   "display_name": "Python 3.8.10 64-bit"
  },
  "interpreter": {
   "hash": "31f2aee4e71d21fbe5cf8b01ff0e069b9275f58929596ceb00d14d90e3e16cd6"
  }
 },
 "nbformat": 4,
 "nbformat_minor": 2
}